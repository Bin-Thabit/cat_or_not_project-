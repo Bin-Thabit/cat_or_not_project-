{
 "cells": [
  {
   "cell_type": "code",
   "execution_count": 334,
   "id": "350f3b4d-d36c-4dda-a201-042d35faedd4",
   "metadata": {},
   "outputs": [],
   "source": [
    "import pandas as pd\n",
    "import numpy as np"
   ]
  },
  {
   "cell_type": "markdown",
   "id": "780a46db-376d-47eb-80ce-8bb417b04f89",
   "metadata": {},
   "source": []
  },
  {
   "cell_type": "markdown",
   "id": "1904fb4e-aff8-47c4-8c9f-aac097ed3de2",
   "metadata": {},
   "source": [
    "<img src=\"cat.png\"  width=\"500\"/>"
   ]
  },
  {
   "cell_type": "markdown",
   "id": "06b16eeb-136c-4e13-aba9-b68e25b8c820",
   "metadata": {},
   "source": [
    "We will use one-hot encoding to encode the categorical features. They will be as follows:\n",
    "\n",
    "- Ear Shape: Pointy = 1, Floppy = 0\n",
    "- Face Shape: Round = 1, Not Round = 0\n",
    "- Whiskers: Present = 1, Absent = 0"
   ]
  },
  {
   "cell_type": "code",
   "execution_count": 249,
   "id": "1a9c1a15-816e-45d8-ade2-b3493bb10522",
   "metadata": {},
   "outputs": [],
   "source": [
    "X_train = np.array(\n",
    "    [[1, 1, 1],\n",
    "    [0, 0, 1],\n",
    "    [0, 1, 0],\n",
    "    [1, 0, 1],\n",
    "    [1, 1, 1],\n",
    "    [1, 1, 0],\n",
    "    [0, 0, 0],\n",
    "    [1, 1, 0],\n",
    "    [0, 1, 0],\n",
    "    [0, 1, 0]]\n",
    ")\n",
    "\n",
    "y_train = np.array([1, 1, 0, 0, 1, 1, 0, 1, 0, 0])"
   ]
  },
  {
   "cell_type": "code",
   "execution_count": 317,
   "id": "f3ee2f08-85fe-4236-b744-2e30051dd7f2",
   "metadata": {},
   "outputs": [
    {
     "name": "stdout",
     "output_type": "stream",
     "text": [
      "X_train Shape: (10, 3)\n",
      "X_train Shape: (10,)\n"
     ]
    }
   ],
   "source": [
    "# Let,s Get the shape of the x_train, y_train\n",
    "print(f\"X_train Shape: {X_train.shape}\")\n",
    "print(f\"X_train Shape: {y_train.shape}\")"
   ]
  },
  {
   "cell_type": "code",
   "execution_count": 251,
   "id": "64c5cb9f-8b4c-49ac-a2bc-9460999d466c",
   "metadata": {},
   "outputs": [
    {
     "name": "stdout",
     "output_type": "stream",
     "text": [
      "[1 1 1]\n"
     ]
    }
   ],
   "source": [
    "# Let,s print the first example to see\n",
    "print(X_train[0])"
   ]
  },
  {
   "cell_type": "markdown",
   "id": "d8f7236e-efc4-49fe-a4f5-b5ae429b84ee",
   "metadata": {},
   "source": [
    "This means that the first example has a pointy ear shape, round face shape and it has whiskers."
   ]
  },
  {
   "cell_type": "markdown",
   "id": "496e953c-c4ea-4efb-8196-5265fd4504e8",
   "metadata": {},
   "source": [
    "On each node, we compute the information gain for each feature, then split the node on the feature with the higher information gain, by comparing the entropy of the node with the weighted entropy in the two splitted nodes. "
   ]
  },
  {
   "cell_type": "markdown",
   "id": "a4ac9f00-2bcc-48cd-a4b5-1a786518395d",
   "metadata": {},
   "source": [
    "So, the root node has every animal in our dataset. Remember that $p_1^{node}$ is the proportion of positive class (cats) in the root node. So\r\n",
    "\r\n",
    "$$p_1^{node} = \\frac{5}{10} = 0.5$$\r\n",
    "\r\n",
    "Now let's write a function to compute the entropy."
   ]
  },
  {
   "cell_type": "code",
   "execution_count": 311,
   "id": "a5362451-e801-443c-8246-fa4f55821627",
   "metadata": {},
   "outputs": [
    {
     "name": "stdout",
     "output_type": "stream",
     "text": [
      "1.0\n"
     ]
    }
   ],
   "source": [
    "def entropy(y):\n",
    "    if len(y) == 0:\n",
    "        return 0\n",
    "    p1 = len(y[y == 1]) / len(y) \n",
    "    if p1 == 0 or p1 == 1:\n",
    "        return 0\n",
    "    return -p1 * np.log2(p1) - (1 - p1) * np.log2(1 - p1)\n",
    "# Let us try with y and it should print 1\n",
    "print(entropy(y_train))"
   ]
  },
  {
   "cell_type": "code",
   "execution_count": 257,
   "id": "13f8a052-5188-455d-a3b6-b8f412d14d8c",
   "metadata": {},
   "outputs": [],
   "source": [
    "def split_indices(X, node_indices, index_feature):\n",
    "    left_indices = []\n",
    "    right_indices = []\n",
    "\n",
    "    for i in node_indices:\n",
    "        if X[i][index_feature] == 1:\n",
    "            left_indices.append(i)\n",
    "        else:\n",
    "            right_indices.append(i)\n",
    "    return left_indices, right_indices"
   ]
  },
  {
   "cell_type": "markdown",
   "id": "64d99c02-e7a6-41f2-a4fb-49c3c9e4cf0b",
   "metadata": {},
   "source": [
    "So, if we choose Ear Shape to split, then we must have in the left node (check the table above) the indices:\n",
    "\n",
    "$$0 \\quad 3 \\quad 4 \\quad 5 \\quad 7$$\n",
    "\n",
    "and the right indices, the remaining ones."
   ]
  },
  {
   "cell_type": "code",
   "execution_count": 261,
   "id": "2b32a37f-739d-4a27-802d-7cf77e37658f",
   "metadata": {},
   "outputs": [
    {
     "data": {
      "text/plain": [
       "([0, 3, 4, 5, 7], [1, 2, 6, 8, 9])"
      ]
     },
     "execution_count": 261,
     "metadata": {},
     "output_type": "execute_result"
    }
   ],
   "source": [
    "node_indices = range(10)\n",
    "split_indices(X_train, node_indices, 0)"
   ]
  },
  {
   "cell_type": "code",
   "execution_count": 227,
   "id": "fa032c36-ddba-4e3d-9bd0-aeafd0f4781b",
   "metadata": {},
   "outputs": [
    {
     "data": {
      "text/plain": [
       "0.7219280948873623"
      ]
     },
     "execution_count": 227,
     "metadata": {},
     "output_type": "execute_result"
    }
   ],
   "source": [
    "left_indices, right_indices = split_indices(X_train, 0)\n",
    "weighted_entropy(X_train, y_train, left_indices, right_indices)"
   ]
  },
  {
   "cell_type": "code",
   "execution_count": 263,
   "id": "88948077-a133-4825-93a5-487b527347d0",
   "metadata": {},
   "outputs": [],
   "source": [
    "def information_gain(X, y, node_indices, feature):\n",
    "\n",
    "    left_indices, right_indices = split_indices(X, node_indices, feature)\n",
    "    \n",
    "    X_node, y_node = X[node_indices], y[node_indices]\n",
    "    X_left, y_left = X[left_indices], y[left_indices]\n",
    "    X_right, y_right = X[right_indices], y[right_indices]\n",
    "\n",
    "    \n",
    "    node_entropy = entropy(y_node)\n",
    "    left_entropy = entropy(y_left)\n",
    "    right_entropy = entropy(y_right)\n",
    "\n",
    "    w_left = len(X_left) / len(X_node)\n",
    "    w_right = len(X_right) / len(X_node)\n",
    "    \n",
    "    weighted_entropy = (w_left * left_entropy) + (w_right * right_entropy)\n",
    "    info_gain = node_entropy - weighted_entropy\n",
    "    return info_gain"
   ]
  },
  {
   "cell_type": "code",
   "execution_count": 231,
   "id": "cd7e386d-ed6d-4725-962e-faf1231e605e",
   "metadata": {},
   "outputs": [
    {
     "data": {
      "text/plain": [
       "0.2780719051126377"
      ]
     },
     "execution_count": 231,
     "metadata": {},
     "output_type": "execute_result"
    }
   ],
   "source": [
    "information_gain(X_train, y_train, left_indices, right_indices)"
   ]
  },
  {
   "cell_type": "markdown",
   "id": "af19a3be-cf03-4aef-9585-8e397dcd62bf",
   "metadata": {},
   "source": [
    "Now, let's compute the information gain if we split the root node for each feature:"
   ]
  },
  {
   "cell_type": "code",
   "execution_count": 265,
   "id": "63bec943-50e0-4ce5-986f-849c9fa00116",
   "metadata": {},
   "outputs": [
    {
     "name": "stdout",
     "output_type": "stream",
     "text": [
      "Feature: Ear Shape, information gain if we split the root node using this feature: 0.28\n",
      "Feature: Face Shape, information gain if we split the root node using this feature: 0.03\n",
      "Feature: Whiskers, information gain if we split the root node using this feature: 0.12\n"
     ]
    }
   ],
   "source": [
    "for i, feature_name in enumerate(['Ear Shape', 'Face Shape', 'Whiskers']):\n",
    "    left_indices, right_indices = split_indices(X_train, node_indices, i)\n",
    "    info_gain = information_gain(X_train, y_train, node_indices, i)\n",
    "    print(f\"Feature: {feature_name}, information gain if we split the root node using this feature: {info_gain:.2f}\")"
   ]
  },
  {
   "cell_type": "markdown",
   "id": "f5725be0-01c9-46c2-a22e-568447f822a0",
   "metadata": {},
   "source": [
    "\n",
    "This function selects the best feature to split on by computing the **information gain** for each feature in the dataset, and get the highest information gain.  \n"
   ]
  },
  {
   "cell_type": "code",
   "execution_count": 291,
   "id": "ef45dd78-c8a1-4d69-8fae-8d5a42f0e161",
   "metadata": {},
   "outputs": [],
   "source": [
    "def get_best_gain(X, y, node_indices):\n",
    "\n",
    "    best_feature = -1\n",
    "    max_info_gain = 0\n",
    "\n",
    "    for i in range(X.shape[1]):\n",
    "        left_indices, right_indices =  split_indices(X, node_indices, i)\n",
    "        info_gain = information_gain(X, y, node_indices, i)\n",
    "        if info_gain > max_info_gain:\n",
    "            best_feature = i\n",
    "            max_info_gain = info_gain\n",
    "\n",
    "    return best_feature, max_info_gain"
   ]
  },
  {
   "cell_type": "code",
   "execution_count": 322,
   "id": "2774b6a2-79da-4338-a5db-994bdbf8826e",
   "metadata": {},
   "outputs": [
    {
     "name": "stdout",
     "output_type": "stream",
     "text": [
      "Best feature to split on: Ear Shape, with information gain: 0.2780719051126377\n"
     ]
    }
   ],
   "source": [
    "features = ['Ear Shape', 'Face Shape', 'Whiskers']\n",
    "best_feature, best_gain = get_best_gain(X_train, y_train, node_indices)\n",
    "print(f\"Best feature to split on: {features[best_feature]}, with information gain: {best_gain}\")"
   ]
  },
  {
   "cell_type": "markdown",
   "id": "2e1a7639-16ff-447b-ab7d-48f16e04a54b",
   "metadata": {},
   "source": [
    "\n",
    "This recursive function builds a decision tree by splitting the data at each node based on the best feature. It continues splitting the data recursively until the maximum depth is reached.\n",
    "The function splits the data at each node based on the best feature, prints the details about the splits, and recursively builds the tree for the left and right child nodes."
   ]
  },
  {
   "cell_type": "code",
   "execution_count": 330,
   "id": "f4a65dc0-a95a-47db-8ed7-91d131d78845",
   "metadata": {},
   "outputs": [],
   "source": [
    "def build_tree_recursive(X, y, node_indices, branch_name, max_depth, current_depth):\n",
    "    # Maximum depth reached - stop splitting\n",
    "    if current_depth == max_depth:\n",
    "        formatting = \" \"*current_depth + \"-\"*current_depth\n",
    "        print(formatting, \"%s leaf node with indices\" % branch_name, node_indices)\n",
    "        return\n",
    "   \n",
    "    # Otherwise, get best split and split the data\n",
    "    # Get the best feature and threshold at this node\n",
    "    best_feature, _ = get_best_gain(X, y, node_indices) \n",
    "    \n",
    "    formatting = \"-\"*current_depth\n",
    "    print(f\"{formatting} Depth {current_depth}, {branch_name}: Split on feature: {best_feature}\")\n",
    "    # Split the dataset at the best feature\n",
    "    left_indices, right_indices = split_indices(X, node_indices, best_feature)\n",
    "    \n",
    "    # continue splitting the left and the right child. Increment current depth\n",
    "    build_tree_recursive(X, y, left_indices, \"Left\", max_depth, current_depth+1)\n",
    "    build_tree_recursive(X, y, right_indices, \"Right\", max_depth, current_depth+1)"
   ]
  },
  {
   "cell_type": "code",
   "execution_count": 332,
   "id": "0886a165-d00d-4761-9477-fafcece7e1ae",
   "metadata": {},
   "outputs": [
    {
     "name": "stdout",
     "output_type": "stream",
     "text": [
      " Depth 0, Root: Split on feature: 0\n",
      "- Depth 1, Left: Split on feature: 1\n",
      "  -- Left leaf node with indices [0, 4, 5, 7]\n",
      "  -- Right leaf node with indices [3]\n",
      "- Depth 1, Right: Split on feature: 2\n",
      "  -- Left leaf node with indices [1]\n",
      "  -- Right leaf node with indices [2, 6, 8, 9]\n"
     ]
    }
   ],
   "source": [
    "build_tree_recursive(X_train, y_train, node_indices, \"Root\", max_depth=2, current_depth=0)"
   ]
  }
 ],
 "metadata": {
  "kernelspec": {
   "display_name": "Python 3 (ipykernel)",
   "language": "python",
   "name": "python3"
  },
  "language_info": {
   "codemirror_mode": {
    "name": "ipython",
    "version": 3
   },
   "file_extension": ".py",
   "mimetype": "text/x-python",
   "name": "python",
   "nbconvert_exporter": "python",
   "pygments_lexer": "ipython3",
   "version": "3.12.4"
  }
 },
 "nbformat": 4,
 "nbformat_minor": 5
}
